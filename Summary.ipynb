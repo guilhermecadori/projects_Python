{
 "cells": [
  {
   "cell_type": "code",
   "execution_count": 1,
   "metadata": {},
   "outputs": [],
   "source": [
    "import pandas as pd"
   ]
  },
  {
   "cell_type": "code",
   "execution_count": 7,
   "metadata": {},
   "outputs": [],
   "source": [
    "# Load data\n",
    "policies = pd.read_csv('policies.csv') \n",
    "claims = pd.read_csv('claims.csv')"
   ]
  },
  {
   "cell_type": "code",
   "execution_count": 11,
   "metadata": {},
   "outputs": [
    {
     "name": "stdout",
     "output_type": "stream",
     "text": [
      "10050\n"
     ]
    },
    {
     "data": {
      "text/html": [
       "<div>\n",
       "<style scoped>\n",
       "    .dataframe tbody tr th:only-of-type {\n",
       "        vertical-align: middle;\n",
       "    }\n",
       "\n",
       "    .dataframe tbody tr th {\n",
       "        vertical-align: top;\n",
       "    }\n",
       "\n",
       "    .dataframe thead th {\n",
       "        text-align: right;\n",
       "    }\n",
       "</style>\n",
       "<table border=\"1\" class=\"dataframe\">\n",
       "  <thead>\n",
       "    <tr style=\"text-align: right;\">\n",
       "      <th></th>\n",
       "      <th>Policy_ID</th>\n",
       "      <th>Customer_ID</th>\n",
       "      <th>Policy_Age</th>\n",
       "      <th>Product_Type</th>\n",
       "      <th>Vehicle_Type</th>\n",
       "      <th>Driving_History</th>\n",
       "      <th>Region</th>\n",
       "      <th>Exposure</th>\n",
       "      <th>Premium</th>\n",
       "      <th>Earned_Premium</th>\n",
       "      <th>Ultimate_Losses</th>\n",
       "      <th>Pure_Premium</th>\n",
       "      <th>Reserved_Losses</th>\n",
       "    </tr>\n",
       "  </thead>\n",
       "  <tbody>\n",
       "    <tr>\n",
       "      <th>0</th>\n",
       "      <td>1</td>\n",
       "      <td>861</td>\n",
       "      <td>1</td>\n",
       "      <td>Liability</td>\n",
       "      <td>Truck</td>\n",
       "      <td>1</td>\n",
       "      <td>West</td>\n",
       "      <td>2</td>\n",
       "      <td>931.31</td>\n",
       "      <td>931.31</td>\n",
       "      <td>161.58</td>\n",
       "      <td>80.790988</td>\n",
       "      <td>129.26</td>\n",
       "    </tr>\n",
       "    <tr>\n",
       "      <th>1</th>\n",
       "      <td>2</td>\n",
       "      <td>3773</td>\n",
       "      <td>25</td>\n",
       "      <td>Liability</td>\n",
       "      <td>SUV</td>\n",
       "      <td>1</td>\n",
       "      <td>West</td>\n",
       "      <td>26</td>\n",
       "      <td>983.91</td>\n",
       "      <td>983.91</td>\n",
       "      <td>2446.77</td>\n",
       "      <td>94.106621</td>\n",
       "      <td>1957.42</td>\n",
       "    </tr>\n",
       "    <tr>\n",
       "      <th>2</th>\n",
       "      <td>3</td>\n",
       "      <td>3093</td>\n",
       "      <td>20</td>\n",
       "      <td>Home</td>\n",
       "      <td>Car</td>\n",
       "      <td>2</td>\n",
       "      <td>Northeast</td>\n",
       "      <td>21</td>\n",
       "      <td>772.97</td>\n",
       "      <td>772.97</td>\n",
       "      <td>3361.05</td>\n",
       "      <td>160.049829</td>\n",
       "      <td>2688.84</td>\n",
       "    </tr>\n",
       "  </tbody>\n",
       "</table>\n",
       "</div>"
      ],
      "text/plain": [
       "   Policy_ID  Customer_ID  Policy_Age Product_Type Vehicle_Type  \\\n",
       "0          1          861           1    Liability        Truck   \n",
       "1          2         3773          25    Liability          SUV   \n",
       "2          3         3093          20         Home          Car   \n",
       "\n",
       "   Driving_History     Region  Exposure  Premium  Earned_Premium  \\\n",
       "0                1       West         2   931.31          931.31   \n",
       "1                1       West        26   983.91          983.91   \n",
       "2                2  Northeast        21   772.97          772.97   \n",
       "\n",
       "   Ultimate_Losses  Pure_Premium  Reserved_Losses  \n",
       "0           161.58     80.790988           129.26  \n",
       "1          2446.77     94.106621          1957.42  \n",
       "2          3361.05    160.049829          2688.84  "
      ]
     },
     "execution_count": 11,
     "metadata": {},
     "output_type": "execute_result"
    }
   ],
   "source": [
    "print(len(policies))\n",
    "policies.head(3)\n"
   ]
  },
  {
   "cell_type": "code",
   "execution_count": 12,
   "metadata": {},
   "outputs": [
    {
     "name": "stdout",
     "output_type": "stream",
     "text": [
      "2956\n"
     ]
    },
    {
     "data": {
      "text/html": [
       "<div>\n",
       "<style scoped>\n",
       "    .dataframe tbody tr th:only-of-type {\n",
       "        vertical-align: middle;\n",
       "    }\n",
       "\n",
       "    .dataframe tbody tr th {\n",
       "        vertical-align: top;\n",
       "    }\n",
       "\n",
       "    .dataframe thead th {\n",
       "        text-align: right;\n",
       "    }\n",
       "</style>\n",
       "<table border=\"1\" class=\"dataframe\">\n",
       "  <thead>\n",
       "    <tr style=\"text-align: right;\">\n",
       "      <th></th>\n",
       "      <th>Claim_ID</th>\n",
       "      <th>Policy_ID</th>\n",
       "      <th>Claim_Date</th>\n",
       "      <th>Claim_Amount</th>\n",
       "      <th>Claim_Type</th>\n",
       "      <th>Severity</th>\n",
       "    </tr>\n",
       "  </thead>\n",
       "  <tbody>\n",
       "    <tr>\n",
       "      <th>0</th>\n",
       "      <td>1</td>\n",
       "      <td>1</td>\n",
       "      <td>2024-11-19</td>\n",
       "      <td>132.88</td>\n",
       "      <td>Property Damage</td>\n",
       "      <td>132.88</td>\n",
       "    </tr>\n",
       "    <tr>\n",
       "      <th>1</th>\n",
       "      <td>2</td>\n",
       "      <td>1</td>\n",
       "      <td>2024-11-12</td>\n",
       "      <td>85.09</td>\n",
       "      <td>Bodily Injury</td>\n",
       "      <td>85.09</td>\n",
       "    </tr>\n",
       "    <tr>\n",
       "      <th>2</th>\n",
       "      <td>3</td>\n",
       "      <td>7</td>\n",
       "      <td>2019-04-24</td>\n",
       "      <td>93.94</td>\n",
       "      <td>Property Damage</td>\n",
       "      <td>93.94</td>\n",
       "    </tr>\n",
       "  </tbody>\n",
       "</table>\n",
       "</div>"
      ],
      "text/plain": [
       "   Claim_ID  Policy_ID  Claim_Date  Claim_Amount       Claim_Type  Severity\n",
       "0         1          1  2024-11-19        132.88  Property Damage    132.88\n",
       "1         2          1  2024-11-12         85.09    Bodily Injury     85.09\n",
       "2         3          7  2019-04-24         93.94  Property Damage     93.94"
      ]
     },
     "execution_count": 12,
     "metadata": {},
     "output_type": "execute_result"
    }
   ],
   "source": [
    "print(len(claims))\n",
    "claims.head(3)"
   ]
  },
  {
   "cell_type": "code",
   "execution_count": null,
   "metadata": {},
   "outputs": [
    {
     "name": "stdout",
     "output_type": "stream",
     "text": [
      "Policy_ID            0\n",
      "Customer_ID          0\n",
      "Policy_Age           0\n",
      "Product_Type         0\n",
      "Vehicle_Type         0\n",
      "Driving_History      0\n",
      "Region               0\n",
      "Exposure             0\n",
      "Premium              0\n",
      "Earned_Premium       0\n",
      "Ultimate_Losses      0\n",
      "Pure_Premium         0\n",
      "Reserved_Losses    100\n",
      "dtype: int64 \n",
      "\n",
      "Claim_ID         0\n",
      "Policy_ID        0\n",
      "Claim_Date       0\n",
      "Claim_Amount    17\n",
      "Claim_Type       0\n",
      "Severity         0\n",
      "dtype: int64\n"
     ]
    }
   ],
   "source": [
    "# Alterntive 1: Cleaning data NaN\n",
    "policies_null = policies.isnull().sum() \n",
    "claims_null = claims.isnull().sum()\n",
    "print(policies_null, '\\n')\n",
    "print(claims_null)"
   ]
  },
  {
   "cell_type": "code",
   "execution_count": 15,
   "metadata": {},
   "outputs": [
    {
     "name": "stdout",
     "output_type": "stream",
     "text": [
      "Policy_ID          0\n",
      "Customer_ID        0\n",
      "Policy_Age         0\n",
      "Product_Type       0\n",
      "Vehicle_Type       0\n",
      "Driving_History    0\n",
      "Region             0\n",
      "Exposure           0\n",
      "Premium            0\n",
      "Earned_Premium     0\n",
      "Ultimate_Losses    0\n",
      "Pure_Premium       0\n",
      "Reserved_Losses    0\n",
      "dtype: int64 \n",
      "\n",
      "Claim_ID        0\n",
      "Policy_ID       0\n",
      "Claim_Date      0\n",
      "Claim_Amount    0\n",
      "Claim_Type      0\n",
      "Severity        0\n",
      "dtype: int64\n"
     ]
    }
   ],
   "source": [
    "policies_df = policies.copy()\n",
    "claims_df = claims.copy()\n",
    "\n",
    "reserved_losses_median = policies_df['Reserved_Losses'].median()\n",
    "claim_amount_median = claims_df['Claim_Amount'].median()\n",
    "\n",
    "policies_df['Reserved_Losses'].fillna(reserved_losses_median, inplace=True)\n",
    "claims_df['Claim_Amount'].fillna(claim_amount_median, inplace=True)\n",
    "\n",
    "policies_df_null = policies_df.isnull().sum()\n",
    "claims_df_null = claims_df.isnull().sum()\n",
    "\n",
    "print(policies_df_null, '\\n')\n",
    "print(claims_df_null)"
   ]
  },
  {
   "cell_type": "code",
   "execution_count": 25,
   "metadata": {},
   "outputs": [
    {
     "name": "stdout",
     "output_type": "stream",
     "text": [
      "10050\n",
      "2956\n",
      "9950\n",
      "2939\n"
     ]
    }
   ],
   "source": [
    "# Alterntive 2: Dropping NaN dependig on the column\n",
    "print(len(policies))\n",
    "print(len(claims))\n",
    "\n",
    "policies_drop_nan_col_dependent = policies.copy()\n",
    "claims_drop_nan_col_depdendent = claims.copy()\n",
    "\n",
    "policies_drop_nan_col_dependent.dropna(subset='Reserved_Losses', inplace=True)\n",
    "claims_drop_nan_col_depdendent.dropna(subset='Claim_Amount', inplace=True)\n",
    "\n",
    "print(len(policies_drop_nan_col_dependent))\n",
    "print(len(claims_drop_nan_col_depdendent))"
   ]
  },
  {
   "cell_type": "code",
   "execution_count": 26,
   "metadata": {},
   "outputs": [
    {
     "name": "stdout",
     "output_type": "stream",
     "text": [
      "10050\n",
      "2956\n",
      "9950\n",
      "2939\n",
      "Policies df Dropped Records: 100\n",
      "Claims df Dropped Records: 17\n"
     ]
    }
   ],
   "source": [
    "# Alternative 3: Drop all NaNs\n",
    "print(len(policies))\n",
    "print(len(claims))\n",
    "\n",
    "policies_drop_all_nan = policies.copy()\n",
    "claims_drop_all_nan = claims.copy()\n",
    "\n",
    "policies_drop_all_nan.dropna(inplace=True)\n",
    "claims_drop_all_nan.dropna(inplace=True)\n",
    "\n",
    "print(len(policies_drop_all_nan))\n",
    "print(len(claims_drop_all_nan))\n",
    "print('Policies df Dropped Records:', len(policies) - len(policies_drop_all_nan))\n",
    "print('Claims df Dropped Records:', len(claims) - len(claims_drop_all_nan))"
   ]
  },
  {
   "cell_type": "markdown",
   "metadata": {},
   "source": [
    "**Obs:** Proceeding with Alternative 1: NaN replace with Median of column"
   ]
  },
  {
   "cell_type": "code",
   "execution_count": null,
   "metadata": {},
   "outputs": [],
   "source": [
    "# Cleaning duplicates\n"
   ]
  },
  {
   "cell_type": "code",
   "execution_count": null,
   "metadata": {},
   "outputs": [],
   "source": [
    "claim"
   ]
  },
  {
   "cell_type": "code",
   "execution_count": null,
   "metadata": {},
   "outputs": [],
   "source": []
  },
  {
   "cell_type": "code",
   "execution_count": null,
   "metadata": {},
   "outputs": [],
   "source": []
  }
 ],
 "metadata": {
  "kernelspec": {
   "display_name": "base",
   "language": "python",
   "name": "python3"
  },
  "language_info": {
   "codemirror_mode": {
    "name": "ipython",
    "version": 3
   },
   "file_extension": ".py",
   "mimetype": "text/x-python",
   "name": "python",
   "nbconvert_exporter": "python",
   "pygments_lexer": "ipython3",
   "version": "3.9.13"
  }
 },
 "nbformat": 4,
 "nbformat_minor": 2
}
