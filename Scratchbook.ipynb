{
 "cells": [
  {
   "cell_type": "markdown",
   "metadata": {},
   "source": [
    "# Scratchbook"
   ]
  },
  {
   "cell_type": "code",
   "execution_count": null,
   "metadata": {},
   "outputs": [],
   "source": [
    "import pandas as pd\n",
    "import statsmodels.api as sm\n",
    "from statsmodels.formula.api import glm\n",
    "\n",
    "# Example dataset: Predicting claims frequency\n",
    "data = pd.DataFrame({\n",
    "    'Age': [25, 40, 35, 50, 30],\n",
    "    'Driving_Experience': [5, 20, 10, 25, 7],\n",
    "    'Claims': [2, 0, 3, 1, 4]\n",
    "})\n",
    "\n",
    "# Fit a Poisson regression model\n",
    "model = glm(\"Claims ~ Age + Driving_Experience\", data=data, family=sm.families.Poisson()).fit()\n",
    "print(model.summary())\n"
   ]
  },
  {
   "cell_type": "markdown",
   "metadata": {},
   "source": [
    "Approach 1: Hyperparameter Tuning Directly on the Dev Set\n",
    "\n",
    "•\tIn this approach, the dev set is used to evaluate and tune hyperparameters.\n"
   ]
  },
  {
   "cell_type": "code",
   "execution_count": 6,
   "metadata": {},
   "outputs": [
    {
     "name": "stdout",
     "output_type": "stream",
     "text": [
      "Best Parameters: {'max_depth': None, 'min_samples_split': 10, 'n_estimators': 50}\n",
      "Dev Set Accuracy: 0.8667\n",
      "Test Set Accuracy: 0.8467\n"
     ]
    }
   ],
   "source": [
    "from sklearn.ensemble import RandomForestClassifier\n",
    "from sklearn.model_selection import train_test_split, GridSearchCV\n",
    "from sklearn.metrics import accuracy_score\n",
    "\n",
    "# Sample dataset\n",
    "from sklearn.datasets import make_classification\n",
    "X, y = make_classification(n_samples=1000, n_features=20, random_state=42)\n",
    "\n",
    "# Split into train, dev, and test sets\n",
    "X_train, X_temp, y_train, y_temp = train_test_split(X, y, test_size=0.3, random_state=42)\n",
    "X_dev, X_test, y_dev, y_test = train_test_split(X_temp, y_temp, test_size=0.5, random_state=42)\n",
    "\n",
    "# Define hyperparameter grid\n",
    "param_grid = {\n",
    "    'n_estimators': [50, 100, 150],\n",
    "    'max_depth': [None, 10, 20],\n",
    "    'min_samples_split': [2, 5, 10]\n",
    "}\n",
    "\n",
    "# Train on train set and tune on dev set\n",
    "model = RandomForestClassifier(random_state=42)\n",
    "grid_search = GridSearchCV(estimator=model, param_grid=param_grid, cv=3, scoring='accuracy')\n",
    "grid_search.fit(X_train, y_train)\n",
    "\n",
    "# Evaluate best model on dev set\n",
    "best_model = grid_search.best_estimator_\n",
    "y_dev_pred = best_model.predict(X_dev)\n",
    "dev_accuracy = accuracy_score(y_dev, y_dev_pred)\n",
    "print(f\"Best Parameters: {grid_search.best_params_}\")\n",
    "print(f\"Dev Set Accuracy: {dev_accuracy:.4f}\")\n",
    "\n",
    "# Final evaluation on test set\n",
    "y_test_pred = best_model.predict(X_test)\n",
    "test_accuracy = accuracy_score(y_test, y_test_pred)\n",
    "print(f\"Test Set Accuracy: {test_accuracy:.4f}\")\n"
   ]
  },
  {
   "cell_type": "markdown",
   "metadata": {},
   "source": [
    "Approach 2: K-Fold Cross-Validation on Train Set with Dev Set for Final Validation\n",
    "\n",
    "•\tIn this approach, k-fold cross-validation is used for hyperparameter tuning, and the dev set is reserved for independent validation of the current parameter set.\n"
   ]
  },
  {
   "cell_type": "code",
   "execution_count": 7,
   "metadata": {},
   "outputs": [
    {
     "name": "stdout",
     "output_type": "stream",
     "text": [
      "Best Parameters: {'max_depth': 10, 'min_samples_split': 2, 'n_estimators': 100}\n",
      "Dev Set Accuracy: 0.8667\n",
      "Test Set Accuracy: 0.8600\n"
     ]
    }
   ],
   "source": [
    "from sklearn.ensemble import RandomForestClassifier\n",
    "from sklearn.model_selection import train_test_split, StratifiedKFold, GridSearchCV\n",
    "from sklearn.metrics import accuracy_score\n",
    "\n",
    "# Sample dataset\n",
    "from sklearn.datasets import make_classification\n",
    "X, y = make_classification(n_samples=1000, n_features=20, random_state=42)\n",
    "\n",
    "# Split into train, dev, and test sets\n",
    "X_train, X_temp, y_train, y_temp = train_test_split(X, y, test_size=0.3, random_state=42)\n",
    "X_dev, X_test, y_dev, y_test = train_test_split(X_temp, y_temp, test_size=0.5, random_state=42)\n",
    "\n",
    "# Define hyperparameter grid\n",
    "param_grid = {\n",
    "    'n_estimators': [50, 100, 150],\n",
    "    'max_depth': [None, 10, 20],\n",
    "    'min_samples_split': [2, 5, 10]\n",
    "}\n",
    "\n",
    "# K-Fold Cross-Validation on train set\n",
    "kfold = StratifiedKFold(n_splits=5, shuffle=True, random_state=42)\n",
    "model = RandomForestClassifier(random_state=42)\n",
    "grid_search = GridSearchCV(estimator=model, param_grid=param_grid, cv=kfold, scoring='accuracy')\n",
    "grid_search.fit(X_train, y_train)\n",
    "\n",
    "# Evaluate best model on dev set\n",
    "best_model = grid_search.best_estimator_\n",
    "y_dev_pred = best_model.predict(X_dev)\n",
    "dev_accuracy = accuracy_score(y_dev, y_dev_pred)\n",
    "print(f\"Best Parameters: {grid_search.best_params_}\")\n",
    "print(f\"Dev Set Accuracy: {dev_accuracy:.4f}\")\n",
    "\n",
    "# Final evaluation on test set\n",
    "y_test_pred = best_model.predict(X_test)\n",
    "test_accuracy = accuracy_score(y_test, y_test_pred)\n",
    "print(f\"Test Set Accuracy: {test_accuracy:.4f}\")\n"
   ]
  }
 ],
 "metadata": {
  "kernelspec": {
   "display_name": "base",
   "language": "python",
   "name": "python3"
  },
  "language_info": {
   "codemirror_mode": {
    "name": "ipython",
    "version": 3
   },
   "file_extension": ".py",
   "mimetype": "text/x-python",
   "name": "python",
   "nbconvert_exporter": "python",
   "pygments_lexer": "ipython3",
   "version": "3.9.13"
  }
 },
 "nbformat": 4,
 "nbformat_minor": 2
}
